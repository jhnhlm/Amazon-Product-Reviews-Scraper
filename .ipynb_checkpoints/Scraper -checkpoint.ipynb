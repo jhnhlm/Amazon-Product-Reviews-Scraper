{
 "cells": [
  {
   "cell_type": "code",
   "execution_count": 320,
   "metadata": {},
   "outputs": [
    {
     "name": "stdout",
     "output_type": "stream",
     "text": [
      "ASIN? B0939MYHMT\n"
     ]
    }
   ],
   "source": [
    "from selenium import webdriver\n",
    "import pandas as pd\n",
    "from selenium.webdriver.support.wait import WebDriverWait\n",
    "from selenium.common.exceptions import NoSuchElementException\n",
    "import math\n",
    "import time\n",
    "\n",
    "#Ask user which Amazon product they want to scrape. \n",
    "amazon = input('ASIN? ')\n",
    "driver = webdriver.Chrome('/usr/local/Caskroom/chromedriver/93.0.4577.63/chromedriver')\n",
    "driver.get(\"https://www.amazon.com/product-reviews/{}\".format(amazon))\n",
    "\n",
    "#code to get review and put it into a dataframe\n",
    "def get_review():\n",
    "    reviews = driver.find_elements_by_class_name('review-text')\n",
    "    review_list = []\n",
    "    for review in reviews:\n",
    "        z = review.text.lower().replace('\\n',' ')\n",
    "        review_list.append(z)\n",
    "    x = pd.DataFrame(review_list)\n",
    "    return x\n",
    "\n",
    "#this code extract reviews stars\n",
    "def get_stars():\n",
    "    stars = driver.find_elements_by_class_name(\"review-rating\")[2:]\n",
    "    star_reviews = []\n",
    "    for star in stars:\n",
    "        star_reviews.append(star.get_attribute(\"innerText\"))\n",
    "    return star_reviews\n",
    "\n",
    "#clicking next\n",
    "def click_next():\n",
    "    nx = driver.find_element_by_xpath('/html/body/div[1]/div[3]/div/div[1]/div/div[1]/div[5]/div[3]/div/div/span/div/ul/li[2]/a')\n",
    "    nx.click()\n",
    "    \n",
    "#find how many reviews a product has\n",
    "#get rid of the comma in a number example: 1,000\n",
    "#divide number of reviews by 10 - each page has 10 reviews\n",
    "#round up to get the number of pages we have to scrape  \n",
    "def num_pages():\n",
    "    number_reviews_string = driver.find_element_by_xpath('//*[@id=\"filter-info-section\"]/div/span').text\n",
    "    num = number_reviews_string.split('|')[1].replace(',','')\n",
    "    number_reviews = [int(s) for s in str.split(num) if s.isdigit()]\n",
    "    return number_reviews[0]"
   ]
  },
  {
   "cell_type": "code",
   "execution_count": 321,
   "metadata": {},
   "outputs": [
    {
     "name": "stdout",
     "output_type": "stream",
     "text": [
      "Completed!\n"
     ]
    }
   ],
   "source": [
    "#assign number of pages to num_pages: how many pages of reviews do the item has?\n",
    "num_pages = num_pages()\n",
    "\n",
    "review_table = []\n",
    "star_table = []\n",
    "\n",
    "try:\n",
    "    for i in range(1, num_pages - 1):\n",
    "        m = get_review()\n",
    "        n = get_stars()\n",
    "        review_table.append(m)\n",
    "        star_table.append(n)\n",
    "        click_next()\n",
    "        time.sleep(3)\n",
    "except NoSuchElementException:\n",
    "    print(\"Completed!\")"
   ]
  },
  {
   "cell_type": "code",
   "execution_count": 322,
   "metadata": {},
   "outputs": [
    {
     "data": {
      "text/html": [
       "<div>\n",
       "<style scoped>\n",
       "    .dataframe tbody tr th:only-of-type {\n",
       "        vertical-align: middle;\n",
       "    }\n",
       "\n",
       "    .dataframe tbody tr th {\n",
       "        vertical-align: top;\n",
       "    }\n",
       "\n",
       "    .dataframe thead th {\n",
       "        text-align: right;\n",
       "    }\n",
       "</style>\n",
       "<table border=\"1\" class=\"dataframe\">\n",
       "  <thead>\n",
       "    <tr style=\"text-align: right;\">\n",
       "      <th></th>\n",
       "      <th>Stars</th>\n",
       "      <th>Reviews</th>\n",
       "    </tr>\n",
       "  </thead>\n",
       "  <tbody>\n",
       "    <tr>\n",
       "      <th>0</th>\n",
       "      <td>4.0 out of 5 stars</td>\n",
       "      <td>performs as advertised. highly recommend. my feedback below.  effective device - light weight - secure - comfortable (after initial 5 minutes of running and proper adjustment) - compact - pocket for keys and id  could be more effective if... - zipper makes noise while running. noticeable if out running without headphones. must tuck zipper pull inside zipper pocket as a fix - iphone 12 plus fits well. hard to get in and out on hot (texas) day due to sticking of plastic and moisture - vest has a snug fit on a very hot day gets occasionally uncomfortable. not a concern in spring, fall, or winter months. only on hot and humid days when you are running 10 mile + runs - removing after a long, hard run is doable but a front clip would be advantageous</td>\n",
       "    </tr>\n",
       "    <tr>\n",
       "      <th>1</th>\n",
       "      <td>3.0 out of 5 stars</td>\n",
       "      <td>good concept and hope it will last. however i’m disappointed that the space for the phone will not allow a phone with ottherbox covering to fit. so i’m gonna have to remove the cover every time i want to use this which as you may know is a real pain in the neck. i should have asked this question prior to purchase.</td>\n",
       "    </tr>\n",
       "    <tr>\n",
       "      <th>2</th>\n",
       "      <td>5.0 out of 5 stars</td>\n",
       "      <td>i never realized how great and free it feels to run without your phone in your hand until i tried it. of course you don't want to run with your phone banging against your thigh while it's in your pocket, so this vest solves the problem. it keeps your phone nice and snug against your chest. it has a single button which secures the top of the phone pouch to the vest, so when you need to check your phone, it's really easy to undo the button, check your phone, and button it back up. the phone pouch fits all phone sizes, and the one in the photos is an iphone xs max which it fits perfectly. the vest also has two smaller pockets on the shoulders which i use for my car key so i don't risk it falling out of my shorts pocket during a run. i can't recommend this product enough!</td>\n",
       "    </tr>\n",
       "    <tr>\n",
       "      <th>3</th>\n",
       "      <td>1.0 out of 5 stars</td>\n",
       "      <td>product came fast and packaged nicely! super lightweight bag and trendy design. however the item it self smells like the worst material you could use for a running product. i don’t know how it could still smell while at amazon. as well as transport. leads me to think it will always smell like plastic\\rubber blend. will report back-</td>\n",
       "    </tr>\n",
       "    <tr>\n",
       "      <th>4</th>\n",
       "      <td>2.0 out of 5 stars</td>\n",
       "      <td>yeah this sucks having to squeeze your iphone 11 into the phone pocket and ripping it on initial unboxing. has a good feel but not much room for the phone and reflective isn’t the best.</td>\n",
       "    </tr>\n",
       "  </tbody>\n",
       "</table>\n",
       "</div>"
      ],
      "text/plain": [
       "                Stars  \\\n",
       "0  4.0 out of 5 stars   \n",
       "1  3.0 out of 5 stars   \n",
       "2  5.0 out of 5 stars   \n",
       "3  1.0 out of 5 stars   \n",
       "4  2.0 out of 5 stars   \n",
       "\n",
       "                                                                                                                                                                                                                                                                                                                                                                                                                                                                                                                                                                                                                                                                                                                                                                                                      Reviews  \n",
       "0  performs as advertised. highly recommend. my feedback below.  effective device - light weight - secure - comfortable (after initial 5 minutes of running and proper adjustment) - compact - pocket for keys and id  could be more effective if... - zipper makes noise while running. noticeable if out running without headphones. must tuck zipper pull inside zipper pocket as a fix - iphone 12 plus fits well. hard to get in and out on hot (texas) day due to sticking of plastic and moisture - vest has a snug fit on a very hot day gets occasionally uncomfortable. not a concern in spring, fall, or winter months. only on hot and humid days when you are running 10 mile + runs - removing after a long, hard run is doable but a front clip would be advantageous                           \n",
       "1  good concept and hope it will last. however i’m disappointed that the space for the phone will not allow a phone with ottherbox covering to fit. so i’m gonna have to remove the cover every time i want to use this which as you may know is a real pain in the neck. i should have asked this question prior to purchase.                                                                                                                                                                                                                                                                                                                                                                                                                                                                                 \n",
       "2  i never realized how great and free it feels to run without your phone in your hand until i tried it. of course you don't want to run with your phone banging against your thigh while it's in your pocket, so this vest solves the problem. it keeps your phone nice and snug against your chest. it has a single button which secures the top of the phone pouch to the vest, so when you need to check your phone, it's really easy to undo the button, check your phone, and button it back up. the phone pouch fits all phone sizes, and the one in the photos is an iphone xs max which it fits perfectly. the vest also has two smaller pockets on the shoulders which i use for my car key so i don't risk it falling out of my shorts pocket during a run. i can't recommend this product enough!  \n",
       "3  product came fast and packaged nicely! super lightweight bag and trendy design. however the item it self smells like the worst material you could use for a running product. i don’t know how it could still smell while at amazon. as well as transport. leads me to think it will always smell like plastic\\rubber blend. will report back-                                                                                                                                                                                                                                                                                                                                                                                                                                                               \n",
       "4  yeah this sucks having to squeeze your iphone 11 into the phone pocket and ripping it on initial unboxing. has a good feel but not much room for the phone and reflective isn’t the best.                                                                                                                                                                                                                                                                                                                                                                                                                                                                                                                                                                                                                   "
      ]
     },
     "execution_count": 322,
     "metadata": {},
     "output_type": "execute_result"
    }
   ],
   "source": [
    "x = pd.concat(review_table, ignore_index=True)\n",
    "\n",
    "star_table = pd.DataFrame(star_table)\n",
    "stars = star_table.to_numpy().flatten().tolist()\n",
    "\n",
    "x = pd.DataFrame(x)\n",
    "stars = pd.DataFrame(stars)\n",
    "\n",
    "df = pd.merge(stars, x, left_index=True, right_index=True, how='outer')\n",
    "df.columns = ['Stars','Reviews']\n",
    "df.head()"
   ]
  },
  {
   "cell_type": "code",
   "execution_count": 323,
   "metadata": {},
   "outputs": [],
   "source": [
    "#export the file in csv \n",
    "df.to_csv('rev.csv', index=False)"
   ]
  },
  {
   "cell_type": "code",
   "execution_count": null,
   "metadata": {},
   "outputs": [],
   "source": []
  }
 ],
 "metadata": {
  "kernelspec": {
   "display_name": "Python 3",
   "language": "python",
   "name": "python3"
  },
  "language_info": {
   "codemirror_mode": {
    "name": "ipython",
    "version": 3
   },
   "file_extension": ".py",
   "mimetype": "text/x-python",
   "name": "python",
   "nbconvert_exporter": "python",
   "pygments_lexer": "ipython3",
   "version": "3.7.4"
  }
 },
 "nbformat": 4,
 "nbformat_minor": 2
}
